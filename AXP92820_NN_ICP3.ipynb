{
  "nbformat": 4,
  "nbformat_minor": 0,
  "metadata": {
    "colab": {
      "provenance": []
    },
    "kernelspec": {
      "name": "python3",
      "display_name": "Python 3"
    },
    "language_info": {
      "name": "python"
    }
  },
  "cells": [
    {
      "cell_type": "markdown",
      "source": [
        "1. Create a class Employee and then do the following:\n",
        "\n",
        "Create a data member to count the number of Employees\n",
        "\n",
        "Create a constructor to initialize name, family, salary, department\n",
        "\n",
        "Create a function to average salary\n",
        "\n",
        "Create a Fulltime Employee class and it should inherit the properties of Employee class\n",
        "\n",
        "Create the instances of Fulltime Employee class and Employee class and call their member functions."
      ],
      "metadata": {
        "id": "2L8KtGGbOQ2C"
      }
    },
    {
      "cell_type": "code",
      "source": [
        "class Employee:\n",
        "    employee_count = 0  # Data member to count the number of Employees\n",
        "\n",
        "    def __init__(self, name, family, salary, department):\n",
        "        self.name = name\n",
        "        self.family = family\n",
        "        self.salary = salary\n",
        "        self.department = department\n",
        "        Employee.employee_count += 1\n",
        "\n",
        "    def average_salary(self, total_salary):\n",
        "        return total_salary / Employee.employee_count\n",
        "\n",
        "class FulltimeEmployee(Employee):\n",
        "    # Inheriting properties from the Employee class\n",
        "    pass\n",
        "\n",
        "# Creating instances of Employee class\n",
        "employee1 = Employee(\"Aishwarya\", \"Pasumarthy\", 1500000, \"Devops engineer\")\n",
        "employee2 = Employee(\"Alekya\", \"Pasumarthy\", 60000, \"Developer\")\n",
        "\n",
        "# Creating instances of FulltimeEmployee class\n",
        "fulltime_employee1 = FulltimeEmployee(\"Mani\", \"pasumarthy\", 90000, \"IT\")\n",
        "fulltime_employee2 = FulltimeEmployee(\"Bhaskar\", \"pasumarthy\", 50000, \"Software engineer\")\n",
        "\n",
        "# Calling member functions\n",
        "total_salary_employees = employee1.salary + employee2.salary\n",
        "average_salary_employees = employee1.average_salary(total_salary_employees)\n",
        "\n",
        "total_salary_fulltime_employees = fulltime_employee1.salary + fulltime_employee2.salary\n",
        "average_salary_fulltime_employees = fulltime_employee1.average_salary(total_salary_fulltime_employees)\n",
        "\n",
        "# Displaying results\n",
        "print(\"Average Salary for Employees:\", average_salary_employees)\n",
        "print(\"Average Salary for Fulltime Employees:\", average_salary_fulltime_employees)\n"
      ],
      "metadata": {
        "colab": {
          "base_uri": "https://localhost:8080/"
        },
        "id": "jCFio8a1OWid",
        "outputId": "a8f94f32-07ed-416f-f837-a7fc5ab57041"
      },
      "execution_count": 2,
      "outputs": [
        {
          "output_type": "stream",
          "name": "stdout",
          "text": [
            "Average Salary for Employees: 390000.0\n",
            "Average Salary for Fulltime Employees: 35000.0\n"
          ]
        }
      ]
    },
    {
      "cell_type": "markdown",
      "source": [
        "Using NumPy:\n",
        "\n",
        "create random vector of size 20 having only float in the range 1-20.\n",
        "\n",
        "Then reshape the array to 4 by 5\n",
        "\n",
        "Then replace the max in each row by 0 (axis=1)\n",
        "Note: (you can NOT implement it via for loop)"
      ],
      "metadata": {
        "id": "FWNxhckxPOFe"
      }
    },
    {
      "cell_type": "code",
      "source": [
        "\n",
        "# Import the NumPy library and alias it as 'np' for brevity and convention.\n",
        "import numpy as np\n",
        "\n",
        "# Create a random vector of size 20 with floats in the range 1-20\n",
        "random_vector = np.random.uniform(1, 20, 20)\n",
        "\n",
        "print(\"Original Random Vector:\\n\", random_vector)"
      ],
      "metadata": {
        "colab": {
          "base_uri": "https://localhost:8080/"
        },
        "id": "EZ3c1EPDPR3Z",
        "outputId": "b9d9941b-b510-4cfb-99eb-988c64159796"
      },
      "execution_count": 3,
      "outputs": [
        {
          "output_type": "stream",
          "name": "stdout",
          "text": [
            "Original Random Vector:\n",
            " [11.11375983 11.81788486 14.57452404  1.07332195 16.62057283 10.13470148\n",
            " 16.63856411  3.36745458 17.83029932  6.64950703 11.09405334 14.55147369\n",
            "  2.69178142 18.17075576 15.04057404 13.16847636 12.40319517  5.96084351\n",
            "  1.35718389  9.14222417]\n"
          ]
        }
      ]
    },
    {
      "cell_type": "code",
      "source": [
        "# Reshape the array to 4 by 5 (4 rows and 5 columns)\n",
        "reshaped_array = random_vector.reshape(4, 5)\n",
        "\n",
        "print(reshaped_array)"
      ],
      "metadata": {
        "colab": {
          "base_uri": "https://localhost:8080/"
        },
        "id": "D1Nvh2rZPfOI",
        "outputId": "7872f24c-4d10-45ed-d3fe-432b80852212"
      },
      "execution_count": 4,
      "outputs": [
        {
          "output_type": "stream",
          "name": "stdout",
          "text": [
            "[[11.11375983 11.81788486 14.57452404  1.07332195 16.62057283]\n",
            " [10.13470148 16.63856411  3.36745458 17.83029932  6.64950703]\n",
            " [11.09405334 14.55147369  2.69178142 18.17075576 15.04057404]\n",
            " [13.16847636 12.40319517  5.96084351  1.35718389  9.14222417]]\n"
          ]
        }
      ]
    },
    {
      "cell_type": "code",
      "source": [
        "\n",
        "# Replace the max in each row by 0 (axis=1)\n",
        "reshaped_array[np.arange(4), reshaped_array.argmax(axis=1)] = 0\n",
        "\n",
        "print(\"Reshaped Array:\\n\", reshaped_array)"
      ],
      "metadata": {
        "colab": {
          "base_uri": "https://localhost:8080/"
        },
        "id": "B2TIYsdAPp6q",
        "outputId": "726f6c9f-3d6d-4016-9c5b-e7c2c3c74642"
      },
      "execution_count": 5,
      "outputs": [
        {
          "output_type": "stream",
          "name": "stdout",
          "text": [
            "Reshaped Array:\n",
            " [[11.11375983 11.81788486 14.57452404  1.07332195  0.        ]\n",
            " [10.13470148 16.63856411  3.36745458  0.          6.64950703]\n",
            " [11.09405334 14.55147369  2.69178142  0.         15.04057404]\n",
            " [ 0.         12.40319517  5.96084351  1.35718389  9.14222417]]\n"
          ]
        }
      ]
    }
  ]
}